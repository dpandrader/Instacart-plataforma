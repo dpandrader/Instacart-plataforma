{
 "cells": [
  {
   "cell_type": "markdown",
   "id": "n3Ha_cNSZ8lK",
   "metadata": {
    "id": "n3Ha_cNSZ8lK"
   },
   "source": [
    "# Paso 1. Descripción de los datos\n",
    "\n",
    "Lee los archivos de datos (`/datasets/instacart_orders.csv`, `/datasets/products.csv`, `/datasets/aisles.csv`, `/datasets/departments.csv` y `/datasets/order_products.csv`) con `pd.read_csv()` usando los parámetros adecuados para leer los datos correctamente. Verifica la información para cada DataFrame creado.\n"
   ]
  },
  {
   "cell_type": "markdown",
   "id": "OmlQPLlyaAfR",
   "metadata": {
    "id": "OmlQPLlyaAfR"
   },
   "source": [
    "## Plan de solución\n",
    "\n",
    "Escribe aquí tu plan de solución para el Paso 1. Descripción de los datos."
   ]
  },
  {
   "cell_type": "markdown",
   "id": "38c41057",
   "metadata": {},
   "source": [
    "Para este primer paso importo pandas con import pandas as pd. Llamo a cada uno de los dataframe utilizando pd.read_csv() y su correspondiente path de localización entre los paréntesis y finalmente para visualizar la información con .info()."
   ]
  },
  {
   "cell_type": "code",
   "execution_count": 46,
   "id": "fbf1adab",
   "metadata": {
    "id": "fbf1adab",
    "trusted": false
   },
   "outputs": [],
   "source": [
    "import pandas as pd\n",
    "from matplotlib import pyplot as plt\n",
    "import numpy as np\n"
   ]
  },
  {
   "cell_type": "code",
   "execution_count": 47,
   "id": "ad36396d",
   "metadata": {
    "id": "ad36396d",
    "trusted": false
   },
   "outputs": [],
   "source": [
    "df_orders = pd.read_csv('instacart_orders.csv', sep=';') \n",
    "\n",
    "df_products = pd.read_csv('products.csv', sep=';')\n",
    "\n",
    "df_aisles  = pd.read_csv('aisles.csv',  sep=';')\n",
    "\n",
    "df_departments = pd.read_csv('departments.csv',  sep=';')\n",
    "\n",
    "df_order_products = pd.read_csv('order_products.csv', sep= ';')\n"
   ]
  },
  {
   "cell_type": "code",
   "execution_count": 48,
   "id": "ad6a1efa",
   "metadata": {
    "id": "ad6a1efa",
    "scrolled": true,
    "trusted": false
   },
   "outputs": [
    {
     "name": "stdout",
     "output_type": "stream",
     "text": [
      "<class 'pandas.core.frame.DataFrame'>\n",
      "RangeIndex: 478967 entries, 0 to 478966\n",
      "Data columns (total 6 columns):\n",
      " #   Column                  Non-Null Count   Dtype  \n",
      "---  ------                  --------------   -----  \n",
      " 0   order_id                478967 non-null  int64  \n",
      " 1   user_id                 478967 non-null  int64  \n",
      " 2   order_number            478967 non-null  int64  \n",
      " 3   order_dow               478967 non-null  int64  \n",
      " 4   order_hour_of_day       478967 non-null  int64  \n",
      " 5   days_since_prior_order  450148 non-null  float64\n",
      "dtypes: float64(1), int64(5)\n",
      "memory usage: 21.9 MB\n"
     ]
    }
   ],
   "source": [
    "df_orders.info()"
   ]
  },
  {
   "cell_type": "code",
   "execution_count": 49,
   "id": "5130e05e",
   "metadata": {
    "id": "5130e05e",
    "scrolled": false,
    "trusted": false
   },
   "outputs": [
    {
     "name": "stdout",
     "output_type": "stream",
     "text": [
      "<class 'pandas.core.frame.DataFrame'>\n",
      "RangeIndex: 49694 entries, 0 to 49693\n",
      "Data columns (total 4 columns):\n",
      " #   Column         Non-Null Count  Dtype \n",
      "---  ------         --------------  ----- \n",
      " 0   product_id     49694 non-null  int64 \n",
      " 1   product_name   48436 non-null  object\n",
      " 2   aisle_id       49694 non-null  int64 \n",
      " 3   department_id  49694 non-null  int64 \n",
      "dtypes: int64(3), object(1)\n",
      "memory usage: 1.5+ MB\n"
     ]
    }
   ],
   "source": [
    "# mostrar información del DataFrame\n",
    "df_products.info()"
   ]
  },
  {
   "cell_type": "code",
   "execution_count": 50,
   "id": "d8370c05",
   "metadata": {
    "id": "d8370c05",
    "trusted": false
   },
   "outputs": [
    {
     "name": "stdout",
     "output_type": "stream",
     "text": [
      "<class 'pandas.core.frame.DataFrame'>\n",
      "RangeIndex: 134 entries, 0 to 133\n",
      "Data columns (total 2 columns):\n",
      " #   Column    Non-Null Count  Dtype \n",
      "---  ------    --------------  ----- \n",
      " 0   aisle_id  134 non-null    int64 \n",
      " 1   aisle     134 non-null    object\n",
      "dtypes: int64(1), object(1)\n",
      "memory usage: 2.2+ KB\n"
     ]
    }
   ],
   "source": [
    "df_aisles.info()"
   ]
  },
  {
   "cell_type": "code",
   "execution_count": 51,
   "id": "59e2090f",
   "metadata": {
    "id": "59e2090f",
    "trusted": false
   },
   "outputs": [
    {
     "name": "stdout",
     "output_type": "stream",
     "text": [
      "<class 'pandas.core.frame.DataFrame'>\n",
      "RangeIndex: 21 entries, 0 to 20\n",
      "Data columns (total 2 columns):\n",
      " #   Column         Non-Null Count  Dtype \n",
      "---  ------         --------------  ----- \n",
      " 0   department_id  21 non-null     int64 \n",
      " 1   department     21 non-null     object\n",
      "dtypes: int64(1), object(1)\n",
      "memory usage: 468.0+ bytes\n"
     ]
    }
   ],
   "source": [
    "# mostrar información del DataFrame\n",
    "df_departments.info()"
   ]
  },
  {
   "cell_type": "code",
   "execution_count": 52,
   "id": "6fc81694",
   "metadata": {
    "id": "6fc81694",
    "trusted": false
   },
   "outputs": [
    {
     "name": "stdout",
     "output_type": "stream",
     "text": [
      "<class 'pandas.core.frame.DataFrame'>\n",
      "RangeIndex: 4545007 entries, 0 to 4545006\n",
      "Data columns (total 4 columns):\n",
      " #   Column             Dtype  \n",
      "---  ------             -----  \n",
      " 0   order_id           int64  \n",
      " 1   product_id         int64  \n",
      " 2   add_to_cart_order  float64\n",
      " 3   reordered          int64  \n",
      "dtypes: float64(1), int64(3)\n",
      "memory usage: 138.7 MB\n"
     ]
    }
   ],
   "source": [
    "# mostrar información del DataFrame\n",
    "df_order_products.info()"
   ]
  },
  {
   "cell_type": "markdown",
   "id": "f70eb71a",
   "metadata": {},
   "source": [
    "Conclusión primer paso:\n",
    "El uso del método .info() brinda información muy útil para iniciar con el procesamiento de los datos, es posible conocer el numero de filas con rangeIndex, el número y nombre de las columnas que componen las tablas y el tipo de dato entre otros.\n"
   ]
  },
  {
   "cell_type": "markdown",
   "id": "8RJHqxVmaVsF",
   "metadata": {
    "id": "8RJHqxVmaVsF"
   },
   "source": [
    "# Paso 2. Preprocesamiento de los datos\n",
    "\n",
    "Preprocesa los datos de la siguiente manera:\n",
    "\n",
    "- Verifica y corrige los tipos de datos (por ejemplo, asegúrate de que las columnas de ID sean números enteros).\n",
    "- Identifica y completa los valores ausentes.\n",
    "- Identifica y elimina los valores duplicados.\n",
    "\n",
    "Asegúrate de explicar qué tipos de valores ausentes y duplicados encontraste, cómo los completaste o eliminaste y por qué usaste esos métodos. ¿Por qué crees que estos valores ausentes y duplicados pueden haber estado presentes en el conjunto de datos?\n",
    "\n",
    "## Plan de solución"
   ]
  },
  {
   "cell_type": "markdown",
   "id": "2e7f9812",
   "metadata": {},
   "source": [
    "Para el procesamiento de datos puedo aplicar métodos para hallar los valores ausentes como  .isna(), .drop() o .dropna() y para  encontrar los duplicados uso los métodos .duplicated(), .drop_duplicates() entre otros"
   ]
  },
  {
   "cell_type": "markdown",
   "id": "07357848-dc64-4156-9cc3-01ff4365226d",
   "metadata": {
    "id": "07357848-dc64-4156-9cc3-01ff4365226d"
   },
   "source": [
    "## Encuentra y elimina los valores duplicados (y describe cómo tomaste tus decisiones)."
   ]
  },
  {
   "cell_type": "markdown",
   "id": "f179f0a9",
   "metadata": {
    "id": "f179f0a9"
   },
   "source": [
    "### `orders` data frame"
   ]
  },
  {
   "cell_type": "code",
   "execution_count": 53,
   "id": "b99297a5-405a-463d-8535-9adc3da4ad74",
   "metadata": {
    "id": "b99297a5-405a-463d-8535-9adc3da4ad74",
    "trusted": false
   },
   "outputs": [
    {
     "name": "stdout",
     "output_type": "stream",
     "text": [
      "        order_id  user_id  order_number  order_dow  order_hour_of_day  \\\n",
      "145574    794638    50898            24          3                  2   \n",
      "223105   2160484   107525            16          3                  2   \n",
      "230807   1918001   188546            14          3                  2   \n",
      "266232   1782114   106752             1          3                  2   \n",
      "273805   1112182   202304            84          3                  2   \n",
      "284038   2845099    31189            11          3                  2   \n",
      "311713   1021560    53767             3          3                  2   \n",
      "321100    408114    68324             4          3                  2   \n",
      "323900   1919531   191501            32          3                  2   \n",
      "345917   2232988    82565             1          3                  2   \n",
      "371905    391768    57671            19          3                  2   \n",
      "394347    467134    63189            21          3                  2   \n",
      "411408   1286742   183220            48          3                  2   \n",
      "415163   2282673    86751            49          3                  2   \n",
      "441599   2125197    14050            48          3                  2   \n",
      "\n",
      "        days_since_prior_order  \n",
      "145574                     2.0  \n",
      "223105                    30.0  \n",
      "230807                    16.0  \n",
      "266232                     NaN  \n",
      "273805                     6.0  \n",
      "284038                     7.0  \n",
      "311713                     9.0  \n",
      "321100                    18.0  \n",
      "323900                     7.0  \n",
      "345917                     NaN  \n",
      "371905                    10.0  \n",
      "394347                     2.0  \n",
      "411408                     4.0  \n",
      "415163                     2.0  \n",
      "441599                     3.0  \n"
     ]
    }
   ],
   "source": [
    "# Revisa si hay pedidos duplicados\n",
    "\n",
    "# y= df_1.duplicated().sum() # con este método identifico que hay 15 duplicados\n",
    "# print(y)\n",
    "\n",
    "duplicate=df_orders[df_orders.duplicated()]\n",
    "print(duplicate)\n"
   ]
  },
  {
   "cell_type": "markdown",
   "id": "PEkwUX_gvt5A",
   "metadata": {
    "id": "PEkwUX_gvt5A"
   },
   "source": [
    "¿Tienes líneas duplicadas? Si sí, ¿qué tienen en común?"
   ]
  },
  {
   "cell_type": "markdown",
   "id": "0cf5a21d",
   "metadata": {},
   "source": [
    "Si, hay 15 lineas duplicadas en el Dataframe, el patrón común en los duplicados en la columna order_dow todos los valores son 3 y en la columna order_hour_of_day los valores son 2."
   ]
  },
  {
   "cell_type": "code",
   "execution_count": 54,
   "id": "0d44de5d",
   "metadata": {
    "id": "0d44de5d",
    "scrolled": true,
    "trusted": false
   },
   "outputs": [
    {
     "name": "stdout",
     "output_type": "stream",
     "text": [
      "        order_id  user_id  order_number  order_dow  order_hour_of_day  \\\n",
      "4838     2766110   162084            41          3                  2   \n",
      "5156     2190225   138285            18          3                  2   \n",
      "15506     553049    58599            13          3                  2   \n",
      "18420     382357   120200            19          3                  2   \n",
      "24691     690242    77357             2          3                  2   \n",
      "...          ...      ...           ...        ...                ...   \n",
      "457013   3384021    14881             6          3                  2   \n",
      "458816    910166   164782            18          3                  2   \n",
      "459635   1680532   106435             6          3                  2   \n",
      "468324    222962    54979            59          3                  2   \n",
      "477526   2592344    46860            38          3                  2   \n",
      "\n",
      "        days_since_prior_order  \n",
      "4838                      16.0  \n",
      "5156                      11.0  \n",
      "15506                      7.0  \n",
      "18420                     11.0  \n",
      "24691                      9.0  \n",
      "...                        ...  \n",
      "457013                    30.0  \n",
      "458816                     4.0  \n",
      "459635                    21.0  \n",
      "468324                     3.0  \n",
      "477526                     3.0  \n",
      "\n",
      "[121 rows x 6 columns]\n"
     ]
    }
   ],
   "source": [
    "# Basándote en tus hallazgos,\n",
    "# Verifica todos los pedidos que se hicieron el miércoles a las 2:00 a.m.\n",
    "\n",
    "print(df_orders[(df_orders['order_dow'] == 3) & (df_orders['order_hour_of_day']== 2)])\n",
    "\n",
    "\n"
   ]
  },
  {
   "cell_type": "markdown",
   "id": "vu2OWyoqwOx5",
   "metadata": {
    "id": "vu2OWyoqwOx5"
   },
   "source": [
    "¿Qué sugiere este resultado?"
   ]
  },
  {
   "cell_type": "markdown",
   "id": "8713d097",
   "metadata": {},
   "source": [
    "De los 121 pedido realizados el día miercoles a la 2 am, 15 pedidos estan duplicados."
   ]
  },
  {
   "cell_type": "code",
   "execution_count": 55,
   "id": "480563c7",
   "metadata": {
    "id": "480563c7",
    "trusted": false
   },
   "outputs": [
    {
     "name": "stdout",
     "output_type": "stream",
     "text": [
      "        order_id  user_id  order_number  order_dow  order_hour_of_day  \\\n",
      "0        1515936   183418            11          6                 13   \n",
      "1        1690866   163593             5          5                 12   \n",
      "2        1454967    39980             4          5                 19   \n",
      "3        1768857    82516            56          0                 20   \n",
      "4        3007858   196724             2          4                 12   \n",
      "...          ...      ...           ...        ...                ...   \n",
      "478962   3210681     5617             5          1                 14   \n",
      "478963   3270802   112087             2          3                 13   \n",
      "478964    885349    82944            16          2                 11   \n",
      "478965    216274     4391             3          3                  8   \n",
      "478966   2071924     1730            18          1                 14   \n",
      "\n",
      "        days_since_prior_order  \n",
      "0                         30.0  \n",
      "1                          9.0  \n",
      "2                          2.0  \n",
      "3                         10.0  \n",
      "4                         17.0  \n",
      "...                        ...  \n",
      "478962                     7.0  \n",
      "478963                     6.0  \n",
      "478964                     6.0  \n",
      "478965                     8.0  \n",
      "478966                    15.0  \n",
      "\n",
      "[478937 rows x 6 columns]\n"
     ]
    }
   ],
   "source": [
    "# Elimina los pedidos duplicados\n",
    "df_orders = df_orders.drop_duplicates(keep=False)\n",
    "\n",
    "print(df_orders)"
   ]
  },
  {
   "cell_type": "code",
   "execution_count": 56,
   "id": "0b2396a2",
   "metadata": {
    "id": "0b2396a2",
    "scrolled": true,
    "trusted": false
   },
   "outputs": [
    {
     "name": "stdout",
     "output_type": "stream",
     "text": [
      "0         False\n",
      "1         False\n",
      "2         False\n",
      "3         False\n",
      "4         False\n",
      "          ...  \n",
      "478962    False\n",
      "478963    False\n",
      "478964    False\n",
      "478965    False\n",
      "478966    False\n",
      "Length: 478937, dtype: bool\n"
     ]
    }
   ],
   "source": [
    "# Vuelve a verificar si hay filas duplicadas\n",
    "ckeck_duplicates= df_orders.duplicated()\n",
    "print(ckeck_duplicates)\n"
   ]
  },
  {
   "cell_type": "code",
   "execution_count": 57,
   "id": "f6113ef1",
   "metadata": {
    "id": "f6113ef1",
    "trusted": false
   },
   "outputs": [
    {
     "name": "stdout",
     "output_type": "stream",
     "text": [
      "Empty DataFrame\n",
      "Columns: [order_id, user_id, order_number, order_dow, order_hour_of_day, days_since_prior_order]\n",
      "Index: []\n"
     ]
    }
   ],
   "source": [
    "# Vuelve a verificar únicamente si hay IDs duplicados de pedidos\n",
    "\n",
    "duplicate_id = df_orders[df_orders.duplicated('order_id')]\n",
    "print(duplicate_id)\n"
   ]
  },
  {
   "cell_type": "markdown",
   "id": "5e8905ae",
   "metadata": {
    "id": "5e8905ae"
   },
   "source": [
    "Describe brevemente tus hallazgos y lo que hiciste con ellos\n"
   ]
  },
  {
   "cell_type": "markdown",
   "id": "4abbe63d",
   "metadata": {},
   "source": [
    "Primero, reviso los duplicados que tiene el dataframe de pedidos. Después reviso los duplicados del miércoles a la 2 am. Procedo a eliminar los duplicados con el método drop.duplicates(). Finalmente verifico que los duplicados hallan sido eliminados en su totalidad."
   ]
  },
  {
   "cell_type": "markdown",
   "id": "45e6bc46",
   "metadata": {
    "id": "45e6bc46"
   },
   "source": [
    "### `products` data frame"
   ]
  },
  {
   "cell_type": "code",
   "execution_count": 58,
   "id": "5f526b5b-8175-46fa-a0fd-441767d50e64",
   "metadata": {
    "id": "5f526b5b-8175-46fa-a0fd-441767d50e64",
    "trusted": false
   },
   "outputs": [
    {
     "name": "stdout",
     "output_type": "stream",
     "text": [
      "Empty DataFrame\n",
      "Columns: [product_id, product_name, aisle_id, department_id]\n",
      "Index: []\n"
     ]
    }
   ],
   "source": [
    "# Verifica si hay filas totalmente duplicadas\n",
    "\n",
    "check_product= df_products[df_products.duplicated()]\n",
    "print(check_product)\n",
    "\n",
    "\n"
   ]
  },
  {
   "cell_type": "code",
   "execution_count": 59,
   "id": "88daa4f4",
   "metadata": {
    "id": "88daa4f4",
    "trusted": false
   },
   "outputs": [
    {
     "name": "stdout",
     "output_type": "stream",
     "text": [
      "       product_id                                     product_name  aisle_id  \\\n",
      "4               5                        Green Chile Anytime Sauce         5   \n",
      "6               7                   Pure Coconut Water With Orange        98   \n",
      "7               8                Cut Russet Potatoes Steam N' Mash       116   \n",
      "9              10   Sparkling Orange Juice & Prickly Pear Beverage       115   \n",
      "10             11                                Peach Mango Juice        31   \n",
      "...           ...                                              ...       ...   \n",
      "49689       49690                    HIGH PERFORMANCE ENERGY DRINK        64   \n",
      "49690       49691                    ORIGINAL PANCAKE & WAFFLE MIX       130   \n",
      "49691       49692  ORGANIC INSTANT OATMEAL LIGHT MAPLE BROWN SUGAR       130   \n",
      "49692       49693                           SPRING WATER BODY WASH       127   \n",
      "49693       49694                          BURRITO- STEAK & CHEESE        38   \n",
      "\n",
      "       department_id  \n",
      "4                 13  \n",
      "6                  7  \n",
      "7                  1  \n",
      "9                  7  \n",
      "10                 7  \n",
      "...              ...  \n",
      "49689              7  \n",
      "49690             14  \n",
      "49691             14  \n",
      "49692             11  \n",
      "49693              1  \n",
      "\n",
      "[49673 rows x 4 columns]\n"
     ]
    }
   ],
   "source": [
    "# Revisa únicamente si hay ID de departamentos duplicados\n",
    "\n",
    "department_id= df_products[df_products.duplicated('department_id')]\n",
    "\n",
    "print(department_id)\n",
    "\n"
   ]
  },
  {
   "cell_type": "code",
   "execution_count": 60,
   "id": "c773f0bf",
   "metadata": {
    "id": "c773f0bf",
    "trusted": false
   },
   "outputs": [
    {
     "name": "stdout",
     "output_type": "stream",
     "text": [
      "       product_id product_name  aisle_id  department_id\n",
      "71             72          NaN       100             21\n",
      "109           110          NaN       100             21\n",
      "296           297          NaN       100             21\n",
      "416           417          NaN       100             21\n",
      "436           437          NaN       100             21\n",
      "...           ...          ...       ...            ...\n",
      "49552       49553          NaN       100             21\n",
      "49574       49575          NaN       100             21\n",
      "49640       49641          NaN       100             21\n",
      "49663       49664          NaN       100             21\n",
      "49668       49669          NaN       100             21\n",
      "\n",
      "[1257 rows x 4 columns]\n",
      "0                               chocolate sandwich cookies\n",
      "1                                         all-seasons salt\n",
      "2                     robust golden unsweetened oolong tea\n",
      "3        smart ones classic favorites mini rigatoni wit...\n",
      "4                                green chile anytime sauce\n",
      "                               ...                        \n",
      "49689                        high performance energy drink\n",
      "49690                        original pancake & waffle mix\n",
      "49691      organic instant oatmeal light maple brown sugar\n",
      "49692                               spring water body wash\n",
      "49693                              burrito- steak & cheese\n",
      "Name: product_name, Length: 49694, dtype: object\n"
     ]
    }
   ],
   "source": [
    "# Revisa únicamente si hay nombres duplicados de productos (convierte los nombres a letras mayúsculas para compararlos mejor)\n",
    "\n",
    "# revisa duplicados en product_name\n",
    "duplicate_products = df_products[df_products.duplicated('product_name')] \n",
    "print(duplicate_products)\n",
    "\n",
    "#convierte en minuscula los nombres\n",
    "\n",
    "name_lower= df_products['product_name'].str.lower()\n",
    "print(name_lower)\n",
    "\n"
   ]
  },
  {
   "cell_type": "code",
   "execution_count": 61,
   "id": "01efd02e",
   "metadata": {
    "id": "01efd02e",
    "trusted": false
   },
   "outputs": [
    {
     "name": "stdout",
     "output_type": "stream",
     "text": [
      "       product_id product_name  aisle_id  department_id\n",
      "37             38          NaN       100             21\n",
      "71             72          NaN       100             21\n",
      "109           110          NaN       100             21\n",
      "296           297          NaN       100             21\n",
      "416           417          NaN       100             21\n",
      "...           ...          ...       ...            ...\n",
      "49552       49553          NaN       100             21\n",
      "49574       49575          NaN       100             21\n",
      "49640       49641          NaN       100             21\n",
      "49663       49664          NaN       100             21\n",
      "49668       49669          NaN       100             21\n",
      "\n",
      "[1258 rows x 4 columns]\n"
     ]
    }
   ],
   "source": [
    "# Revisa si hay nombres duplicados de productos no faltantes\n",
    "\n",
    "print(df_products[df_products['product_name'].isna()])"
   ]
  },
  {
   "cell_type": "markdown",
   "id": "9da8d293",
   "metadata": {
    "id": "9da8d293"
   },
   "source": [
    "Describe brevemente tus hallazgos y lo que hiciste con ellos."
   ]
  },
  {
   "cell_type": "code",
   "execution_count": 62,
   "id": "f2ee7400",
   "metadata": {},
   "outputs": [
    {
     "data": {
      "text/plain": [
       "0"
      ]
     },
     "execution_count": 62,
     "metadata": {},
     "output_type": "execute_result"
    }
   ],
   "source": [
    "df_products[~(df_products['product_name'].isna())].duplicated('product_name').sum()"
   ]
  },
  {
   "cell_type": "markdown",
   "id": "0d00dd03",
   "metadata": {},
   "source": [
    "Se encontraron 1257 valores no faltantes NaN"
   ]
  },
  {
   "cell_type": "markdown",
   "id": "60f30db1",
   "metadata": {
    "id": "60f30db1"
   },
   "source": [
    "### `departments` data frame"
   ]
  },
  {
   "cell_type": "code",
   "execution_count": 63,
   "id": "fb410ad4-0fbf-4b80-bb09-23fdea79afe3",
   "metadata": {
    "id": "fb410ad4-0fbf-4b80-bb09-23fdea79afe3",
    "trusted": false
   },
   "outputs": [
    {
     "name": "stdout",
     "output_type": "stream",
     "text": [
      "0\n"
     ]
    }
   ],
   "source": [
    "# Revisa si hay filas totalmente duplicadas\n",
    "\n",
    "departments= df_departments.duplicated().sum()\n",
    "print(departments)"
   ]
  },
  {
   "cell_type": "code",
   "execution_count": 64,
   "id": "332b12bb",
   "metadata": {
    "id": "332b12bb",
    "trusted": false
   },
   "outputs": [
    {
     "name": "stdout",
     "output_type": "stream",
     "text": [
      "0\n"
     ]
    }
   ],
   "source": [
    "# Revisa únicamente si hay IDs duplicadas de productos\n",
    "\n",
    "department_id = df_departments['department_id'].duplicated().sum()\n",
    "print(department_id )"
   ]
  },
  {
   "cell_type": "markdown",
   "id": "bd30d78e",
   "metadata": {
    "id": "bd30d78e"
   },
   "source": [
    "Describe brevemente tus hallazgos y lo que hiciste con ellos."
   ]
  },
  {
   "cell_type": "markdown",
   "id": "383cd29c",
   "metadata": {},
   "source": [
    "No encontre valores duplicados en la columna departments"
   ]
  },
  {
   "cell_type": "markdown",
   "id": "889349c1",
   "metadata": {
    "id": "889349c1"
   },
   "source": [
    "### `aisles` data frame"
   ]
  },
  {
   "cell_type": "code",
   "execution_count": 65,
   "id": "9da89fb9-4679-40f5-ad0d-c34df753a3f8",
   "metadata": {
    "id": "9da89fb9-4679-40f5-ad0d-c34df753a3f8",
    "trusted": false
   },
   "outputs": [
    {
     "name": "stdout",
     "output_type": "stream",
     "text": [
      "0\n"
     ]
    }
   ],
   "source": [
    "# Revisa si hay filas totalmente duplicadas\n",
    "\n",
    "aisles= df_aisles.duplicated().sum()\n",
    "print(aisles)"
   ]
  },
  {
   "cell_type": "code",
   "execution_count": 66,
   "id": "da7c2822",
   "metadata": {
    "id": "da7c2822",
    "trusted": false
   },
   "outputs": [
    {
     "name": "stdout",
     "output_type": "stream",
     "text": [
      "0\n"
     ]
    }
   ],
   "source": [
    "# Revisa únicamente si hay IDs duplicadas de productos\n",
    "\n",
    "aisle_id= df_aisles['aisle_id'].duplicated().sum()\n",
    "print(aisle_id)"
   ]
  },
  {
   "cell_type": "markdown",
   "id": "ac63826f",
   "metadata": {
    "id": "ac63826f"
   },
   "source": [
    "Describe brevemente tus hallazgos y lo que hiciste con ellos."
   ]
  },
  {
   "cell_type": "markdown",
   "id": "02b055d4",
   "metadata": {},
   "source": [
    "No hay valores duplicados en la columna aisles"
   ]
  },
  {
   "cell_type": "markdown",
   "id": "274cd06a",
   "metadata": {
    "id": "274cd06a"
   },
   "source": [
    "### `order_products` data frame"
   ]
  },
  {
   "cell_type": "code",
   "execution_count": 67,
   "id": "52326689-84a8-4b8f-a881-7c68780f62c9",
   "metadata": {
    "id": "52326689-84a8-4b8f-a881-7c68780f62c9",
    "trusted": false
   },
   "outputs": [
    {
     "name": "stdout",
     "output_type": "stream",
     "text": [
      "0\n"
     ]
    }
   ],
   "source": [
    "# Revisa si hay filas totalmente duplicadas\n",
    "\n",
    "order_products= df_order_products.duplicated().sum()\n",
    "print(order_products)\n",
    "\n"
   ]
  },
  {
   "cell_type": "code",
   "execution_count": 68,
   "id": "7b861391",
   "metadata": {
    "id": "7b861391",
    "trusted": false
   },
   "outputs": [
    {
     "name": "stdout",
     "output_type": "stream",
     "text": [
      "0\n"
     ]
    }
   ],
   "source": [
    "# Vuelve a verificar si hay cualquier otro duplicado engañoso\n",
    "\n",
    "order_products= df_order_products.duplicated(subset=None, keep=\"first\")\n",
    "order_products= order_products.sum()\n",
    "\n",
    "print(order_products)\n"
   ]
  },
  {
   "cell_type": "markdown",
   "id": "0b890492",
   "metadata": {
    "id": "0b890492"
   },
   "source": [
    "Describe brevemente tus hallazgos y lo que hiciste con ellos."
   ]
  },
  {
   "cell_type": "markdown",
   "id": "0d49d1c0",
   "metadata": {},
   "source": [
    "Para revisar si habian duplicados en el dataframe order_products, primero utilice el método .duplicated(), y en la segunda verificación, use el método .duplicated() pasando como argumento subset y keep. para ambos casos los duplicados son cero."
   ]
  },
  {
   "cell_type": "markdown",
   "id": "1e46de76",
   "metadata": {
    "id": "1e46de76"
   },
   "source": [
    "## Encuentra y elimina los valores ausentes\n",
    "\n",
    "Al trabajar con valores duplicados, pudimos observar que también nos falta investigar valores ausentes:\n",
    "\n",
    "* La columna `'product_name'` de la tabla products.\n",
    "* La columna `'days_since_prior_order'` de la tabla orders.\n",
    "* La columna `'add_to_cart_order'` de la tabla order_productos."
   ]
  },
  {
   "cell_type": "markdown",
   "id": "c0aebd78",
   "metadata": {
    "id": "c0aebd78"
   },
   "source": [
    "### `products` data frame"
   ]
  },
  {
   "cell_type": "code",
   "execution_count": 69,
   "id": "fe4a8b0f",
   "metadata": {
    "id": "fe4a8b0f",
    "trusted": false
   },
   "outputs": [
    {
     "data": {
      "text/plain": [
       "1258"
      ]
     },
     "execution_count": 69,
     "metadata": {},
     "output_type": "execute_result"
    }
   ],
   "source": [
    "# Encuentra los valores ausentes en la columna 'product_name'\n",
    "\n",
    "df_products['product_name'].isna().sum()"
   ]
  },
  {
   "cell_type": "markdown",
   "id": "-A6x1AbJhjkp",
   "metadata": {
    "id": "-A6x1AbJhjkp"
   },
   "source": [
    "Describe brevemente cuáles son tus hallazgos."
   ]
  },
  {
   "cell_type": "markdown",
   "id": "a975b056",
   "metadata": {},
   "source": [
    "En el dataframe products, realize la verificación de valores ausentes en la columna product_name y encontrE 1258 valores NaN."
   ]
  },
  {
   "cell_type": "code",
   "execution_count": 70,
   "id": "e96167bc",
   "metadata": {
    "id": "e96167bc",
    "trusted": false
   },
   "outputs": [
    {
     "name": "stdout",
     "output_type": "stream",
     "text": [
      "Empty DataFrame\n",
      "Columns: [product_id, product_name, aisle_id, department_id]\n",
      "Index: []\n"
     ]
    }
   ],
   "source": [
    "#  ¿Todos los nombres de productos ausentes están relacionados con el pasillo con ID 100?\n",
    "\n",
    "print( df_products[(df_products['product_name'].isna()) & (df_products['aisle_id']!= 100)]) # relación entre valores ausentes del nombre de producto y pasillo distintos a 100\n",
    "\n"
   ]
  },
  {
   "cell_type": "markdown",
   "id": "WRpIfXRphpSL",
   "metadata": {
    "id": "WRpIfXRphpSL"
   },
   "source": [
    "Describe brevemente cuáles son tus hallazgos."
   ]
  },
  {
   "cell_type": "markdown",
   "id": "2d217602",
   "metadata": {},
   "source": [
    "Todos los nombres de producto de valores ausentes esta relacionados con el aisle id 100"
   ]
  },
  {
   "cell_type": "code",
   "execution_count": 71,
   "id": "8fd0a541",
   "metadata": {
    "id": "8fd0a541",
    "trusted": false
   },
   "outputs": [
    {
     "name": "stdout",
     "output_type": "stream",
     "text": [
      "Empty DataFrame\n",
      "Columns: [product_id, product_name, aisle_id, department_id]\n",
      "Index: []\n"
     ]
    }
   ],
   "source": [
    "# ¿Todos los nombres de productos ausentes están relacionados con el departamento con ID 21?\n",
    "\n",
    "print( df_products[(df_products['product_name'].isna()) & (df_products['department_id']!= 21)]) # relación entre valores ausentes del nombre de producto y departamente id 21"
   ]
  },
  {
   "cell_type": "markdown",
   "id": "qDpdYn1Fht_I",
   "metadata": {
    "id": "qDpdYn1Fht_I"
   },
   "source": [
    "Describe brevemente cuáles son tus hallazgos."
   ]
  },
  {
   "cell_type": "markdown",
   "id": "2b1492ed",
   "metadata": {},
   "source": [
    "Todos los nombres de producto de valores ausentes esta relacionados con el departamento id 21"
   ]
  },
  {
   "cell_type": "code",
   "execution_count": 72,
   "id": "325c3464",
   "metadata": {
    "id": "325c3464",
    "trusted": false
   },
   "outputs": [
    {
     "name": "stdout",
     "output_type": "stream",
     "text": [
      "       product_id product_name  aisle_id  department_id\n",
      "37             38          NaN       100             21\n",
      "71             72          NaN       100             21\n",
      "109           110          NaN       100             21\n",
      "296           297          NaN       100             21\n",
      "416           417          NaN       100             21\n",
      "...           ...          ...       ...            ...\n",
      "49552       49553          NaN       100             21\n",
      "49574       49575          NaN       100             21\n",
      "49640       49641          NaN       100             21\n",
      "49663       49664          NaN       100             21\n",
      "49668       49669          NaN       100             21\n",
      "\n",
      "[1258 rows x 4 columns]\n"
     ]
    }
   ],
   "source": [
    "# Usa las tablas department y aisle para revisar los datos del pasillo con ID 100 y el departamento con ID 21.\n",
    "\n",
    "print(df_products[(df_products['aisle_id']== 100) & (df_products['department_id']== 21)])\n"
   ]
  },
  {
   "cell_type": "markdown",
   "id": "nqhSTUPhhvEJ",
   "metadata": {
    "id": "nqhSTUPhhvEJ"
   },
   "source": [
    "Describe brevemente cuáles son tus hallazgos."
   ]
  },
  {
   "cell_type": "markdown",
   "id": "6f603980",
   "metadata": {},
   "source": [
    "Al revisar la columna aisle_id igual a 100 y la columna departmente_id igual 21, se determina que todos los nombres de producto ausentes se relacionan con dichas columnas"
   ]
  },
  {
   "cell_type": "code",
   "execution_count": 73,
   "id": "6b295120",
   "metadata": {
    "id": "6b295120",
    "trusted": false
   },
   "outputs": [
    {
     "name": "stdout",
     "output_type": "stream",
     "text": [
      "0                               Chocolate Sandwich Cookies\n",
      "1                                         All-Seasons Salt\n",
      "2                     Robust Golden Unsweetened Oolong Tea\n",
      "3        Smart Ones Classic Favorites Mini Rigatoni Wit...\n",
      "4                                Green Chile Anytime Sauce\n",
      "                               ...                        \n",
      "49689                        HIGH PERFORMANCE ENERGY DRINK\n",
      "49690                        ORIGINAL PANCAKE & WAFFLE MIX\n",
      "49691      ORGANIC INSTANT OATMEAL LIGHT MAPLE BROWN SUGAR\n",
      "49692                               SPRING WATER BODY WASH\n",
      "49693                              BURRITO- STEAK & CHEESE\n",
      "Name: product_name, Length: 49694, dtype: object\n"
     ]
    }
   ],
   "source": [
    "# Completa los nombres de productos ausentes con 'Unknown'\n",
    "\n",
    "df_products['product_name'] = df_products['product_name'].fillna(value='Unknown')\n",
    "\n",
    "print(df_products['product_name'])\n"
   ]
  },
  {
   "cell_type": "markdown",
   "id": "fc70e5ad",
   "metadata": {
    "id": "fc70e5ad"
   },
   "source": [
    "Describe brevemente tus hallazgos y lo que hiciste con ellos.\n"
   ]
  },
  {
   "cell_type": "markdown",
   "id": "05858378",
   "metadata": {},
   "source": [
    "Utilizando el método .fillna() pasandole el argumento value=  se pueden modificar los valores ausentes por 'Unknown'"
   ]
  },
  {
   "cell_type": "markdown",
   "id": "7eb45c86",
   "metadata": {
    "id": "7eb45c86"
   },
   "source": [
    "### `orders` data frame"
   ]
  },
  {
   "cell_type": "code",
   "execution_count": 74,
   "id": "93e41d96",
   "metadata": {
    "id": "93e41d96",
    "trusted": false
   },
   "outputs": [
    {
     "data": {
      "text/plain": [
       "28815"
      ]
     },
     "execution_count": 74,
     "metadata": {},
     "output_type": "execute_result"
    }
   ],
   "source": [
    "# Encuentra los valores ausentes\n",
    "\n",
    "df_orders['days_since_prior_order'].isna().sum()"
   ]
  },
  {
   "cell_type": "code",
   "execution_count": 75,
   "id": "166e5a86",
   "metadata": {
    "id": "166e5a86",
    "trusted": false
   },
   "outputs": [
    {
     "name": "stdout",
     "output_type": "stream",
     "text": [
      "Empty DataFrame\n",
      "Columns: [order_id, user_id, order_number, order_dow, order_hour_of_day, days_since_prior_order]\n",
      "Index: []\n"
     ]
    }
   ],
   "source": [
    "# ¿Hay algún valor ausente que no sea el primer pedido del cliente?\n",
    "\n",
    "print(df_orders[df_orders['order_id'].isna()])"
   ]
  },
  {
   "cell_type": "markdown",
   "id": "43760bd8",
   "metadata": {},
   "source": [
    "no hay valores ausentes en la columna order_id"
   ]
  },
  {
   "cell_type": "markdown",
   "id": "4e23d089",
   "metadata": {
    "id": "4e23d089"
   },
   "source": [
    "Describe brevemente tus hallazgos y lo que hiciste con ellos."
   ]
  },
  {
   "cell_type": "markdown",
   "id": "69dc9ca4",
   "metadata": {
    "id": "69dc9ca4"
   },
   "source": [
    "### `order_products` data frame"
   ]
  },
  {
   "cell_type": "code",
   "execution_count": 76,
   "id": "b8240253",
   "metadata": {
    "id": "b8240253",
    "trusted": false
   },
   "outputs": [
    {
     "name": "stdout",
     "output_type": "stream",
     "text": [
      "836\n"
     ]
    }
   ],
   "source": [
    "# Encuentra los valores ausentes\n",
    "\n",
    "print(df_order_products['add_to_cart_order'].isna().sum())"
   ]
  },
  {
   "cell_type": "code",
   "execution_count": 77,
   "id": "9a78e5ee",
   "metadata": {
    "id": "9a78e5ee",
    "trusted": false
   },
   "outputs": [
    {
     "name": "stdout",
     "output_type": "stream",
     "text": [
      "1.0 64.0\n"
     ]
    }
   ],
   "source": [
    "# ¿Cuáles son los valores mínimos y máximos en esta columna?\n",
    "\n",
    "print(df_order_products['add_to_cart_order'].min(), df_order_products['add_to_cart_order'].max())\n"
   ]
  },
  {
   "cell_type": "markdown",
   "id": "-Z2Ja215jW78",
   "metadata": {
    "id": "-Z2Ja215jW78"
   },
   "source": [
    "Describe brevemente cuáles son tus hallazgos."
   ]
  },
  {
   "cell_type": "markdown",
   "id": "0013c178",
   "metadata": {},
   "source": [
    "El valor mínimo es 0 y el máximo es de 64"
   ]
  },
  {
   "cell_type": "code",
   "execution_count": 78,
   "id": "ab9d0c2b",
   "metadata": {
    "id": "ab9d0c2b",
    "trusted": false
   },
   "outputs": [
    {
     "name": "stdout",
     "output_type": "stream",
     "text": [
      "737        2449164\n",
      "9926       1968313\n",
      "14394      2926893\n",
      "16418      1717990\n",
      "30114      1959075\n",
      "            ...   \n",
      "4505662    1800005\n",
      "4511400    1633337\n",
      "4517562     404157\n",
      "4534112    1673227\n",
      "4535739    1832957\n",
      "Name: order_id, Length: 836, dtype: int64\n"
     ]
    }
   ],
   "source": [
    "# Guarda todas las IDs de pedidos que tengan un valor ausente en 'add_to_cart_order'\n",
    "\n",
    "order_id_nan = df_order_products[df_order_products['add_to_cart_order'].isna()]['order_id']\n",
    "print(order_id_nan)\n",
    "\n"
   ]
  },
  {
   "cell_type": "code",
   "execution_count": 79,
   "id": "f2817ffc",
   "metadata": {
    "trusted": false
   },
   "outputs": [
    {
     "data": {
      "text/plain": [
       "65"
      ]
     },
     "execution_count": 79,
     "metadata": {},
     "output_type": "execute_result"
    }
   ],
   "source": [
    "df_order_nan = df_order_products[df_order_products.order_id.isin(order_id_nan)]\n",
    "df_order_nan.groupby('order_id')['product_id'].count().min()\n"
   ]
  },
  {
   "cell_type": "markdown",
   "id": "p9V6pddtjglj",
   "metadata": {
    "id": "p9V6pddtjglj"
   },
   "source": [
    "Describe brevemente cuáles son tus hallazgos."
   ]
  },
  {
   "cell_type": "markdown",
   "id": "d4736565",
   "metadata": {},
   "source": [
    "No hay ningun pedido que tenga más de 64 productos.\n"
   ]
  },
  {
   "cell_type": "code",
   "execution_count": 80,
   "id": "7a987d08",
   "metadata": {
    "id": "7a987d08",
    "trusted": false
   },
   "outputs": [
    {
     "name": "stdout",
     "output_type": "stream",
     "text": [
      "0\n"
     ]
    }
   ],
   "source": [
    "# Remplaza los valores ausentes en la columna 'add_to_cart? con 999 y convierte la columna al tipo entero.\n",
    "\n",
    "df_order_products['add_to_cart_order'] = df_order_products['add_to_cart_order'].fillna(value= 999)\n",
    "print(df_order_products['add_to_cart_order'].isna().sum())\n",
    "\n"
   ]
  },
  {
   "cell_type": "markdown",
   "id": "fea4bcc7",
   "metadata": {
    "id": "fea4bcc7"
   },
   "source": [
    "Describe brevemente tus hallazgos y lo que hiciste con ellos."
   ]
  },
  {
   "cell_type": "markdown",
   "id": "22cad6d1",
   "metadata": {},
   "source": [
    "No hay valores ausentes en la columna 'add_to_cart'"
   ]
  },
  {
   "cell_type": "markdown",
   "id": "RnplPFY1gSrb",
   "metadata": {
    "id": "RnplPFY1gSrb"
   },
   "source": [
    "## Conclusiones\n",
    "\n",
    "Escribe aquí tus conclusiones intermedias sobre el Paso 2. Preprocesamiento de los datos\n"
   ]
  },
  {
   "cell_type": "markdown",
   "id": "d4a591e2",
   "metadata": {},
   "source": [
    "Conclusión segundo paso:\n",
    "En este paso se procesan los datos de los distintos dataframe para limpiar valores ausentes y duplicados,  utilizar los métodos de filtrado  con el fin de accesar a información específica. Tambíen se identificaron valores maximos y minimos."
   ]
  },
  {
   "cell_type": "markdown",
   "id": "UjrOIwTcz3ri",
   "metadata": {
    "id": "UjrOIwTcz3ri"
   },
   "source": [
    "# Paso 3. Análisis de los datos\n",
    "\n",
    "Una vez los datos estén procesados y listos, haz el siguiente análisis:"
   ]
  },
  {
   "cell_type": "markdown",
   "id": "turkish-kidney",
   "metadata": {
    "id": "turkish-kidney"
   },
   "source": [
    "# [A] Fácil (deben completarse todos para aprobar)\n",
    "\n",
    "1. Verifica que los valores en las columnas `'order_hour_of_day'` y `'order_dow'` en la tabla orders sean razonables (es decir, `'order_hour_of_day'` oscile entre 0 y 23 y `'order_dow'` oscile entre 0 y 6).\n",
    "2. Crea un gráfico que muestre el número de personas que hacen pedidos dependiendo de la hora del día.\n",
    "3. Crea un gráfico que muestre qué día de la semana la gente hace sus compras.\n",
    "4. Crea un gráfico que muestre el tiempo que la gente espera hasta hacer su siguiente pedido, y comenta sobre los valores mínimos y máximos."
   ]
  },
  {
   "cell_type": "markdown",
   "id": "short-capability",
   "metadata": {
    "id": "short-capability"
   },
   "source": [
    "### [A1] Verifica que los valores sean sensibles"
   ]
  },
  {
   "cell_type": "code",
   "execution_count": 81,
   "id": "f3e7c28a",
   "metadata": {
    "trusted": false
   },
   "outputs": [
    {
     "data": {
      "text/plain": [
       "array([ 0,  1,  2,  3,  4,  5,  6,  7,  8,  9, 10, 11, 12, 13, 14, 15, 16,\n",
       "       17, 18, 19, 20, 21, 22, 23], dtype=int64)"
      ]
     },
     "execution_count": 81,
     "metadata": {},
     "output_type": "execute_result"
    }
   ],
   "source": [
    "# Verifica que los valores en las columnas 'order_hour_of_day' y 'order_dow' en la tabla orders sean razonables (es decir, 'order_hour_of_day' oscile entre 0 y 23 y 'order_dow' oscile entre 0 y 6).\n",
    "\n",
    "df_orders['order_hour_of_day'].sort_values().unique()"
   ]
  },
  {
   "cell_type": "code",
   "execution_count": 82,
   "id": "accessory-malaysia",
   "metadata": {
    "id": "accessory-malaysia",
    "trusted": false
   },
   "outputs": [
    {
     "data": {
      "text/plain": [
       "array([0, 1, 2, 3, 4, 5, 6], dtype=int64)"
      ]
     },
     "execution_count": 82,
     "metadata": {},
     "output_type": "execute_result"
    }
   ],
   "source": [
    "# Verifica que los valores en las columnas 'order_hour_of_day' y 'order_dow' en la tabla orders sean razonables (es decir, 'order_hour_of_day' oscile entre 0 y 23 y 'order_dow' oscile entre 0 y 6).\n",
    "\n",
    "df_orders['order_dow'].sort_values().unique()\n"
   ]
  },
  {
   "cell_type": "markdown",
   "id": "hmR2GNQ6lCsX",
   "metadata": {
    "id": "hmR2GNQ6lCsX"
   },
   "source": [
    "Escribe aquí tus conclusiones"
   ]
  },
  {
   "cell_type": "markdown",
   "id": "7f035839",
   "metadata": {},
   "source": [
    "Los valores de la columna 'order_hour_of_day' se encuentra entre el rango de 0-23,  y los valores de la columna  'order_dow' se encuentran entre 0-6."
   ]
  },
  {
   "cell_type": "markdown",
   "id": "a6743a70",
   "metadata": {
    "id": "a6743a70"
   },
   "source": [
    "### [A2] Para cada hora del día, ¿cuántas personas hacen órdenes?"
   ]
  },
  {
   "cell_type": "code",
   "execution_count": 83,
   "id": "a36cca27",
   "metadata": {
    "id": "a36cca27",
    "trusted": false
   },
   "outputs": [
    {
     "data": {
      "image/png": "[encoded data removed]",
      "text/plain": [
       "<Figure size 640x480 with 1 Axes>"
      ]
     },
     "metadata": {},
     "output_type": "display_data"
    }
   ],
   "source": [
    "hourly_orders = df_orders.groupby('order_hour_of_day')['user_id'].count()\n",
    "\n",
    "\n",
    "\n",
    "hourly_orders.plot(x='order_hour_of_day',\n",
    "        y='user_id',\n",
    "        title='Orders by time of day.',\n",
    "        kind='bar',\n",
    "        xlabel='Time',\n",
    "        ylabel='Number of people')\n",
    "        \n",
    "plt.show()\n",
    "\n",
    "\n"
   ]
  },
  {
   "cell_type": "markdown",
   "id": "c698e08b",
   "metadata": {},
   "source": [
    "Escribe aquí tus conclusiones"
   ]
  },
  {
   "cell_type": "markdown",
   "id": "fce69023",
   "metadata": {},
   "source": [
    "Según la gráfica se puede concluir que las personas realizan más ordenes entre las 10 a 15 horas.\n"
   ]
  },
  {
   "cell_type": "markdown",
   "id": "documented-command",
   "metadata": {
    "id": "documented-command"
   },
   "source": [
    "### [A3] ¿Qué día de la semana compran víveres las personas?"
   ]
  },
  {
   "cell_type": "code",
   "execution_count": 84,
   "id": "586f7f7c",
   "metadata": {
    "id": "chief-digit",
    "trusted": false
   },
   "outputs": [
    {
     "data": {
      "image/png": "[encoded data removed]",
      "text/plain": [
       "<Figure size 640x480 with 1 Axes>"
      ]
     },
     "metadata": {},
     "output_type": "display_data"
    }
   ],
   "source": [
    "purchase_day_of_week = df_orders.groupby('order_dow')['user_id'].count()\n",
    "\n",
    "\n",
    "purchase_day_of_week.plot(x='order_dow',\n",
    "        y='user_id',\n",
    "        title='Day of the week with the most purchases',\n",
    "        kind='bar',\n",
    "        xlabel='Day',\n",
    "        ylabel='Orders')\n",
    "        \n",
    "plt.show()"
   ]
  },
  {
   "cell_type": "markdown",
   "id": "dominant-lightning",
   "metadata": {
    "id": "dominant-lightning"
   },
   "source": [
    "Escribe aquí tus conclusiones"
   ]
  },
  {
   "cell_type": "markdown",
   "id": "3fe0f359",
   "metadata": {},
   "source": [
    "A partir del gráfico, El domingo es el dia que más compran viveres las personas"
   ]
  },
  {
   "cell_type": "markdown",
   "id": "cutting-concert",
   "metadata": {
    "id": "cutting-concert"
   },
   "source": [
    "### [A4] ¿Cuánto tiempo esperan las personas hasta hacer otro pedido? Comenta sobre los valores mínimos y máximos."
   ]
  },
  {
   "cell_type": "code",
   "execution_count": 85,
   "id": "c231f523",
   "metadata": {
    "id": "c231f523",
    "trusted": false
   },
   "outputs": [
    {
     "name": "stdout",
     "output_type": "stream",
     "text": [
      "0.0 30.0\n"
     ]
    }
   ],
   "source": [
    "print(df_orders['days_since_prior_order'].min(), df_orders['days_since_prior_order'].max())"
   ]
  },
  {
   "cell_type": "code",
   "execution_count": 86,
   "id": "44843326",
   "metadata": {
    "trusted": false
   },
   "outputs": [
    {
     "data": {
      "image/png": "[encoded data removed]",
      "text/plain": [
       "<Figure size 640x480 with 1 Axes>"
      ]
     },
     "metadata": {},
     "output_type": "display_data"
    }
   ],
   "source": [
    "next_purchase = df_orders.groupby('days_since_prior_order')['user_id'].count()\n",
    "\n",
    "next_purchase .plot(x='days_since_prior_order',\n",
    "            y='user_id',\n",
    "            title='Waiting time until next order',\n",
    "            kind='bar',\n",
    "            xlabel='Time ',\n",
    "            ylabel='Order',\n",
    "            xlim=[0, 30])\n",
    "        \n",
    "plt.show()"
   ]
  },
  {
   "cell_type": "markdown",
   "id": "discrete-vertex",
   "metadata": {
    "id": "discrete-vertex"
   },
   "source": [
    "Escribe aquí tus conclusiones"
   ]
  },
  {
   "cell_type": "markdown",
   "id": "8f08a01b",
   "metadata": {},
   "source": [
    "El número de días transcurridos desde que este cliente hizo su pedido anterior es de 7 días aproximadamente."
   ]
  },
  {
   "cell_type": "markdown",
   "id": "tight-staff",
   "metadata": {
    "id": "tight-staff"
   },
   "source": [
    "# [B] Intermedio (deben completarse todos para aprobar)\n",
    "\n",
    "1. ¿Existe alguna diferencia entre las distribuciones `'order_hour_of_day'` de los miércoles y los sábados? Traza gráficos de barra de `'order_hour_of_day'` para ambos días en la misma figura y describe las diferencias que observes.\n",
    "2. Grafica la distribución para el número de órdenes que hacen los clientes (es decir, cuántos clientes hicieron solo 1 pedido, cuántos hicieron 2, cuántos 3, y así sucesivamente...).\n",
    "3. ¿Cuáles son los 20 principales productos que se piden con más frecuencia (muestra su identificación y nombre)?"
   ]
  },
  {
   "cell_type": "markdown",
   "id": "packed-classic",
   "metadata": {
    "id": "packed-classic"
   },
   "source": [
    "### [B1] Diferencia entre miércoles y sábados para  `'order_hour_of_day'`. Traza gráficos de barra para los dos días y describe las diferencias que veas."
   ]
  },
  {
   "cell_type": "code",
   "execution_count": 87,
   "id": "35bcea30",
   "metadata": {
    "id": "35bcea30",
    "trusted": false
   },
   "outputs": [
    {
     "data": {
      "image/png": "[encoded data removed]",
      "text/plain": [
       "<Figure size 1000x600 with 1 Axes>"
      ]
     },
     "metadata": {},
     "output_type": "display_data"
    }
   ],
   "source": [
    "# se trae la columna miercoles y se ordena\n",
    "wednesday= df_orders[df_orders['order_dow']==3]\n",
    "order_wednesday = wednesday['order_hour_of_day'].value_counts().sort_index()\n",
    "\n",
    "\n",
    "# se trae la columna sabado y se ordena\n",
    "saturday = df_orders[df_orders['order_dow']==6]\n",
    "order_saturday= saturday ['order_hour_of_day'].value_counts().sort_index()\n",
    "\n",
    "# figsize controla el tamaño del grafico\n",
    "fig, ax = plt.subplots(figsize=(10, 6))\n",
    "\n",
    "# ax.bar grafica los valores de los dias de la semana\n",
    " \n",
    "ax.bar(order_wednesday.index -0.2, order_wednesday.values,width =0.4,label='wednesday') \n",
    "\n",
    "ax.bar(order_saturday.index +0.2,order_saturday.values,width =0.4, label='saturday') \n",
    "\n",
    "# etiquetas y titulo del grafico\n",
    "ax.set_xlabel('Time of day')\n",
    "ax.set_ylabel('Orders')\n",
    "ax.set_title('Wednesday orders VS Saturday orders')\n",
    "\n",
    "#  texto en la leyenda\n",
    "ax.legend(['Wednesday', 'Saturday'])\n",
    "\n",
    "plt.show()\n"
   ]
  },
  {
   "cell_type": "markdown",
   "id": "charitable-congo",
   "metadata": {
    "id": "charitable-congo"
   },
   "source": [
    "Escribe aquí tus conclusiones"
   ]
  },
  {
   "cell_type": "markdown",
   "id": "4e9408dd",
   "metadata": {},
   "source": [
    "En general el día sabado hay mayor cantidad de pedidos comparado con el día miercoles."
   ]
  },
  {
   "cell_type": "markdown",
   "id": "e3891143",
   "metadata": {
    "id": "e3891143"
   },
   "source": [
    "### [B2] ¿Cuál es la distribución para el número de pedidos por cliente?"
   ]
  },
  {
   "cell_type": "code",
   "execution_count": 88,
   "id": "d8c26c23",
   "metadata": {
    "id": "d8c26c23",
    "trusted": false
   },
   "outputs": [
    {
     "data": {
      "image/png": "[encoded data removed]",
      "text/plain": [
       "<Figure size 640x480 with 1 Axes>"
      ]
     },
     "metadata": {},
     "output_type": "display_data"
    }
   ],
   "source": [
    "# Grafica la distribución para el número de órdenes que hacen los clientes (es decir, cuántos clientes hicieron solo 1 pedido,\n",
    "#cuá\n",
    "\n",
    "distribution_orders=df_orders.groupby('user_id')['order_id'].count().value_counts().sort_index()\n",
    "\n",
    "\n",
    "distribution_orders.plot(x='days_since_prior_order',\n",
    "        y='user_id',\n",
    "        title='Waiting time until next order',\n",
    "        kind='bar',\n",
    "        xlabel='Time',\n",
    "        ylabel='Orders')\n",
    "        \n",
    "plt.show()\n",
    "\n"
   ]
  },
  {
   "cell_type": "markdown",
   "id": "54a0319c",
   "metadata": {
    "id": "54a0319c"
   },
   "source": [
    "### [B3] ¿Cuáles son los 20 productos más populares (muestra su ID y nombre)?"
   ]
  },
  {
   "cell_type": "code",
   "execution_count": 89,
   "id": "exterior-arizona",
   "metadata": {
    "id": "exterior-arizona",
    "scrolled": true,
    "trusted": false
   },
   "outputs": [
    {
     "name": "stdout",
     "output_type": "stream",
     "text": [
      "product_id  product_name            \n",
      "24852       Banana                      66050\n",
      "13176       Bag of Organic Bananas      53297\n",
      "21137       Organic Strawberries        37039\n",
      "21903       Organic Baby Spinach        33971\n",
      "47209       Organic Hass Avocado        29773\n",
      "47766       Organic Avocado             24689\n",
      "47626       Large Lemon                 21495\n",
      "16797       Strawberries                20018\n",
      "26209       Limes                       19690\n",
      "27845       Organic Whole Milk          19600\n",
      "27966       Organic Raspberries         19197\n",
      "22935       Organic Yellow Onion        15898\n",
      "24964       Organic Garlic              15292\n",
      "45007       Organic Zucchini            14584\n",
      "39275       Organic Blueberries         13879\n",
      "49683       Cucumber Kirby              13675\n",
      "28204       Organic Fuji Apple          12544\n",
      "5876        Organic Lemon               12232\n",
      "8277        Apple Honeycrisp Organic    11993\n",
      "40706       Organic Grape Tomatoes      11781\n",
      "Name: order_id, dtype: int64\n"
     ]
    }
   ],
   "source": [
    "# ¿Cuáles son los 20 principales productos que se piden con más frecuencia (muestra su identificación y nombre)?\n",
    "\n",
    "best_selling_products = df_products.merge(df_order_products, on='product_id')\n",
    "\n",
    "best_selling_products=best_selling_products.groupby(['product_id','product_name' ])['order_id'].count().sort_values(ascending=False).head(20)\n",
    "print(best_selling_products)\n",
    "   "
   ]
  },
  {
   "cell_type": "markdown",
   "id": "7df00f47",
   "metadata": {
    "id": "7df00f47"
   },
   "source": [
    "Escribe aquí tus conclusiones"
   ]
  },
  {
   "cell_type": "markdown",
   "id": "e6ac4bfc",
   "metadata": {
    "id": "bbcdd20b"
   },
   "source": [
    "El producto Banana es el más popular, luego le sigue Bag of Organic Bananas y en tercer lugar esta Organic Strawberries. Los productos más populares tiene más de 11781 pedidos."
   ]
  },
  {
   "cell_type": "markdown",
   "id": "gross-theme",
   "metadata": {
    "id": "gross-theme"
   },
   "source": [
    "# [C] Difícil (deben completarse todos para aprobar)\n",
    "\n",
    "1. ¿Cuántos artículos suelen comprar las personas en un pedido? ¿Cómo es la distribución?\n",
    "2. ¿Cuáles son los 20 principales artículos que vuelven a pedirse con mayor frecuencia (muestra sus nombres e IDs de los productos)?\n",
    "3. Para cada producto, ¿cuál es la tasa de repetición del pedido (número de repeticiones de pedido/total de pedidos?\n",
    "4. Para cada cliente, ¿qué proporción de los productos que pidió ya los había pedido? Calcula la tasa de repetición de pedido para cada usuario en lugar de para cada producto.\n",
    "5. ¿Cuáles son los 20 principales artículos que la gente pone primero en sus carritos (muestra las IDs de los productos, sus nombres, y el número de veces en que fueron el primer artículo en añadirse al carrito)?"
   ]
  },
  {
   "cell_type": "markdown",
   "id": "romantic-deposit",
   "metadata": {
    "id": "romantic-deposit"
   },
   "source": [
    "### [C1] ¿Cuántos artículos compran normalmente las personas en un pedido? ¿Cómo es la distribución?"
   ]
  },
  {
   "cell_type": "code",
   "execution_count": 90,
   "id": "virtual-punch",
   "metadata": {
    "id": "virtual-punch",
    "trusted": false
   },
   "outputs": [
    {
     "name": "stdout",
     "output_type": "stream",
     "text": [
      "The average number of items ordered is: 10.098983215049127\n"
     ]
    },
    {
     "data": {
      "image/png": "[encoded data removed]",
      "text/plain": [
       "<Figure size 640x480 with 1 Axes>"
      ]
     },
     "metadata": {},
     "output_type": "display_data"
    }
   ],
   "source": [
    "# Cuántos artículos suelen comprar las personas en un pedido? ¿Cómo es la distribución?\n",
    "\n",
    "average_items_ordered = df_order_products.groupby('order_id')['product_id'].count().mean()\n",
    "print(f'The average number of items ordered is: {average_items_ordered}')\n",
    "\n",
    "average_items_ordered = df_order_products.groupby('order_id')['product_id'].count()\n",
    "\n",
    "\n",
    "plt.hist(average_items_ordered, bins=20)\n",
    "plt.title('Distribution of items by order')\n",
    "plt.xlabel=('Items by order')\n",
    "plt.ylabel=('Frequency')\n",
    "plt.grid(True)\n",
    "plt.show()"
   ]
  },
  {
   "cell_type": "markdown",
   "id": "designed-mortality",
   "metadata": {
    "id": "designed-mortality"
   },
   "source": [
    "Escribe aquí tus conclusiones"
   ]
  },
  {
   "cell_type": "markdown",
   "id": "5ec99e1b",
   "metadata": {},
   "source": [
    "El promedio de productoscompardos por orden es de 10."
   ]
  },
  {
   "cell_type": "markdown",
   "id": "5e6b5537",
   "metadata": {
    "id": "5e6b5537"
   },
   "source": [
    "### [C2] ¿Cuáles son los 20 principales artículos que vuelven a pedirse con mayor frecuencia (muestra sus nombres e IDs de los productos)?"
   ]
  },
  {
   "cell_type": "code",
   "execution_count": 91,
   "id": "9374e55a",
   "metadata": {
    "id": "9374e55a",
    "trusted": false
   },
   "outputs": [],
   "source": [
    "# ¿Cuáles son los 20 principales artículos que vuelven a pedirse con mayor frecuencia (muestra sus nombres e IDs de los productos)?"
   ]
  },
  {
   "cell_type": "code",
   "execution_count": 92,
   "id": "possible-change",
   "metadata": {
    "id": "possible-change",
    "scrolled": true,
    "trusted": false
   },
   "outputs": [
    {
     "name": "stdout",
     "output_type": "stream",
     "text": [
      "product_id  product_name            \n",
      "24852       Banana                      55763\n",
      "13176       Bag of Organic Bananas      44450\n",
      "21137       Organic Strawberries        28639\n",
      "21903       Organic Baby Spinach        26233\n",
      "47209       Organic Hass Avocado        23629\n",
      "47766       Organic Avocado             18743\n",
      "27845       Organic Whole Milk          16251\n",
      "47626       Large Lemon                 15044\n",
      "27966       Organic Raspberries         14748\n",
      "16797       Strawberries                13945\n",
      "26209       Limes                       13327\n",
      "22935       Organic Yellow Onion        11145\n",
      "24964       Organic Garlic              10411\n",
      "45007       Organic Zucchini            10076\n",
      "49683       Cucumber Kirby               9538\n",
      "28204       Organic Fuji Apple           8989\n",
      "8277        Apple Honeycrisp Organic     8836\n",
      "39275       Organic Blueberries          8799\n",
      "5876        Organic Lemon                8412\n",
      "49235       Organic Half & Half          8389\n",
      "Name: order_id, dtype: int64\n"
     ]
    }
   ],
   "source": [
    "reorder_product = df_products.merge(df_order_products, on='product_id').query(\"reordered == 1\")\n",
    "\n",
    "reorder_product =reorder_product.groupby(['product_id' ,'product_name', ])['order_id'].count().sort_values(ascending=False).head(20)\n",
    "\n",
    "\n",
    "print(reorder_product)"
   ]
  },
  {
   "cell_type": "markdown",
   "id": "80e70c74",
   "metadata": {
    "id": "80e70c74"
   },
   "source": [
    "Escribe aquí tus conclusiones"
   ]
  },
  {
   "cell_type": "markdown",
   "id": "56b1be4a",
   "metadata": {
    "id": "48dd3658"
   },
   "source": [
    "Los producto que se vuelven a pedir con mayor frecuencia son Banana, Bag of Organic Bananas y Organic Strawberries ."
   ]
  },
  {
   "cell_type": "markdown",
   "id": "9d312b14",
   "metadata": {
    "id": "9d312b14"
   },
   "source": [
    "### [C3] Para cada producto, ¿cuál es la proporción de las veces que se pide y que se vuelve a pedir?"
   ]
  },
  {
   "cell_type": "code",
   "execution_count": 93,
   "id": "8ae9f4b1",
   "metadata": {
    "id": "8ae9f4b1",
    "trusted": false
   },
   "outputs": [],
   "source": [
    "\n",
    "# Para cada producto, ¿cuál es la tasa de repetición del pedido (número de repeticiones de pedido/total de pedidos?"
   ]
  },
  {
   "cell_type": "code",
   "execution_count": 94,
   "id": "103e7fe1",
   "metadata": {
    "id": "103e7fe1",
    "trusted": false
   },
   "outputs": [
    {
     "data": {
      "text/plain": [
       "product_id\n",
       "14721    1.0\n",
       "20949    1.0\n",
       "6723     1.0\n",
       "6732     1.0\n",
       "45088    1.0\n",
       "        ... \n",
       "10485    0.0\n",
       "37690    0.0\n",
       "10484    0.0\n",
       "10474    0.0\n",
       "42984    0.0\n",
       "Name: reordered, Length: 45573, dtype: float64"
      ]
     },
     "execution_count": 94,
     "metadata": {},
     "output_type": "execute_result"
    }
   ],
   "source": [
    "df_order_products.groupby('product_id')['reordered'].mean().sort_values(ascending=False)"
   ]
  },
  {
   "cell_type": "markdown",
   "id": "I10dEIAyldcO",
   "metadata": {
    "id": "I10dEIAyldcO"
   },
   "source": [
    "Escribe aquí tus conclusiones"
   ]
  },
  {
   "cell_type": "markdown",
   "id": "4f765494",
   "metadata": {},
   "source": [
    "La taza de repetición de compra de un producto es de 1."
   ]
  },
  {
   "cell_type": "markdown",
   "id": "subject-boxing",
   "metadata": {
    "id": "subject-boxing"
   },
   "source": [
    "### [C4] Para cada cliente, ¿qué proporción de sus productos ya los había pedido?"
   ]
  },
  {
   "cell_type": "markdown",
   "id": "05be0367",
   "metadata": {
    "id": "medical-couple",
    "scrolled": true
   },
   "source": [
    "Para cada cliente, ¿qué proporción de los productos que pidió ya los había pedido? Calcula la tasa de repetición de pedido para cada usuario en lugar de para cada producto"
   ]
  },
  {
   "cell_type": "code",
   "execution_count": null,
   "id": "8892e4b4",
   "metadata": {
    "id": "8892e4b4",
    "trusted": false
   },
   "outputs": [
    {
     "name": "stdout",
     "output_type": "stream",
     "text": [
      "user_id\n",
      "2         0.038462\n",
      "4         0.000000\n",
      "5         0.666667\n",
      "6         0.000000\n",
      "7         0.928571\n",
      "            ...   \n",
      "206203    0.222222\n",
      "206206    0.714286\n",
      "206207    0.891304\n",
      "206208    0.696000\n",
      "206209    0.320000\n",
      "Name: reordered, Length: 149623, dtype: float64\n"
     ]
    }
   ],
   "source": [
    "client_product= df_order_products.merge(df_orders)\n",
    "\n",
    "client_product= client_product.groupby( 'user_id')['reordered'].mean()\n",
    "\n",
    "print(client_product)\n"
   ]
  },
  {
   "cell_type": "markdown",
   "id": "BgJSvXDsleXz",
   "metadata": {
    "id": "BgJSvXDsleXz"
   },
   "source": [
    "Escribe aquí tus conclusiones"
   ]
  },
  {
   "cell_type": "markdown",
   "id": "1f7de814",
   "metadata": {},
   "source": [
    "La proporción de pedir un producto nuevamente varia según el usuario. \n"
   ]
  },
  {
   "cell_type": "markdown",
   "id": "92d35137",
   "metadata": {
    "id": "92d35137"
   },
   "source": [
    "### [C5] ¿Cuáles son los 20 principales artículos que las personas ponen primero en sus carritos?"
   ]
  },
  {
   "cell_type": "markdown",
   "id": "90a695a4",
   "metadata": {
    "id": "0ae57274",
    "scrolled": true
   },
   "source": [
    "¿Cuáles son los 20 principales artículos que la gente pone primero en sus carritos (muestra las IDs de los productos, sus nombres, y el número de veces en que fueron el primer artículo en añadirse al carrito)?"
   ]
  },
  {
   "cell_type": "code",
   "execution_count": null,
   "id": "forty-netherlands",
   "metadata": {
    "id": "forty-netherlands",
    "scrolled": true,
    "trusted": false
   },
   "outputs": [
    {
     "name": "stdout",
     "output_type": "stream",
     "text": [
      "product_id  product_name               \n",
      "24852       Banana                         15562\n",
      "13176       Bag of Organic Bananas         11026\n",
      "27845       Organic Whole Milk              4363\n",
      "21137       Organic Strawberries            3946\n",
      "47209       Organic Hass Avocado            3390\n",
      "21903       Organic Baby Spinach            3336\n",
      "47766       Organic Avocado                 3044\n",
      "19660       Spring Water                    2336\n",
      "16797       Strawberries                    2308\n",
      "27966       Organic Raspberries             2024\n",
      "44632       Sparkling Water Grapefruit      1914\n",
      "49235       Organic Half & Half             1797\n",
      "47626       Large Lemon                     1737\n",
      "196         Soda                            1733\n",
      "38689       Organic Reduced Fat Milk        1397\n",
      "26209       Limes                           1370\n",
      "12341       Hass Avocados                   1340\n",
      "5785        Organic Reduced Fat 2% Milk     1310\n",
      "27086       Half & Half                     1309\n",
      "43352       Raspberries                     1246\n",
      "Name: order_id, dtype: int64\n"
     ]
    }
   ],
   "source": [
    "first_product = df_products.merge(df_order_products, on='product_id')\n",
    "\n",
    "first_product= first_product[first_product['add_to_cart_order']== 1]\n",
    "\n",
    "first_product =first_product.groupby(['product_id' ,'product_name'])['order_id'].count().sort_values(ascending=False).head(20)\n",
    "\n",
    "\n",
    "print(first_product)"
   ]
  },
  {
   "cell_type": "markdown",
   "id": "3fa9f128",
   "metadata": {},
   "source": [
    "Los productos que las personas ponen primero en su carrito son: Banana y Bag of Organic Bananas."
   ]
  }
 ],
 "metadata": {
  "colab": {
   "provenance": []
  },
  "kernelspec": {
   "display_name": "base",
   "language": "python",
   "name": "python3"
  },
  "language_info": {
   "codemirror_mode": {
    "name": "ipython",
    "version": 3
   },
   "file_extension": ".py",
   "mimetype": "text/x-python",
   "name": "python",
   "nbconvert_exporter": "python",
   "pygments_lexer": "ipython3",
   "version": "3.11.7"
  },
  "toc": {
   "base_numbering": 1,
   "nav_menu": {},
   "number_sections": true,
   "sideBar": true,
   "skip_h1_title": true,
   "title_cell": "Table of Contents",
   "title_sidebar": "Contents",
   "toc_cell": false,
   "toc_position": {},
   "toc_section_display": true,
   "toc_window_display": false
  }
 },
 "nbformat": 4,
 "nbformat_minor": 5
}
